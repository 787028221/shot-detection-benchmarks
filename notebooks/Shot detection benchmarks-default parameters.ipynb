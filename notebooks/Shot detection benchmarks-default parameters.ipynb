{
 "cells": [
  {
   "cell_type": "code",
   "execution_count": 1,
   "metadata": {
    "collapsed": false
   },
   "outputs": [],
   "source": [
    "%matplotlib inline\n",
    "%load_ext autoreload\n",
    "%autoreload 2"
   ]
  },
  {
   "cell_type": "code",
   "execution_count": 2,
   "metadata": {
    "collapsed": true
   },
   "outputs": [],
   "source": [
    "from __future__ import division\n",
    "import os\n",
    "import scipy.io\n",
    "import matplotlib\n",
    "import matplotlib.pyplot as plt"
   ]
  },
  {
   "cell_type": "code",
   "execution_count": 3,
   "metadata": {
    "collapsed": false
   },
   "outputs": [],
   "source": [
    "from sklearn.metrics import auc\n",
    "from shot_benchmarks.utils import metrics\n",
    "from shot_benchmarks.detectors.ffprobe_shots import extract_shots_with_ffprobe\n",
    "from shot_benchmarks.detectors.shotdetect_shots import extract_shots_with_shotdetect\n",
    "from shot_benchmarks.detectors.shotdetect_shots import extract_boundaries_from_shotdetect_output\n",
    "from shot_benchmarks.detectors.pyscenedetect_shots import extract_shots_with_pyscenedetect"
   ]
  },
  {
   "cell_type": "markdown",
   "metadata": {},
   "source": [
    "###Test Data\n",
    "\n",
    "The test data consists of three youtube videos:\n",
    "\n",
    "* [football clip](https://www.youtube.com/watch?v=vFT8HXJlvfA) (05:11) \n",
    "* [movie clip](https://www.youtube.com/watch?v=bpLtXIlkyYA) (03:12)\n",
    "* [gameshow clip](https://www.youtube.com/watch?v=fkiDpLlQ9Wg) (29:45, but only first 05:00 used)"
   ]
  },
  {
   "cell_type": "markdown",
   "metadata": {},
   "source": [
    "A shot boundary prediction is considered correct if it lies within the number of seconds given by `TOLERANCE` of the human annotated boundary"
   ]
  },
  {
   "cell_type": "markdown",
   "metadata": {},
   "source": [
    "#PR curves with defaults"
   ]
  },
  {
   "cell_type": "markdown",
   "metadata": {},
   "source": [
    "###Gameshow clip"
   ]
  },
  {
   "cell_type": "code",
   "execution_count": 17,
   "metadata": {
    "collapsed": true
   },
   "outputs": [],
   "source": [
    "video = 'gameshow'\n",
    "TOLERANCE = 0.2 "
   ]
  },
  {
   "cell_type": "code",
   "execution_count": 18,
   "metadata": {
    "collapsed": true
   },
   "outputs": [],
   "source": [
    "parent_dir = os.path.abspath('..')\n",
    "src_video = '{}/raw/{}.mp4'.format(parent_dir, video)"
   ]
  },
  {
   "cell_type": "markdown",
   "metadata": {},
   "source": [
    "Load human annotations"
   ]
  },
  {
   "cell_type": "code",
   "execution_count": 19,
   "metadata": {
    "collapsed": false
   },
   "outputs": [],
   "source": [
    "annotations_csv = '{}/annotations/{}.csv'.format(parent_dir, video)\n",
    "gt_shot_boundaries = metrics.get_ground_truth(annotations_csv)\n",
    "num_pos = len(gt_shot_boundaries)"
   ]
  },
  {
   "cell_type": "markdown",
   "metadata": {},
   "source": [
    "Much of the work involved in shot detection involves tuning the threshold parameters of the shot detection tool.  Before tuning these, each is run with its suggested default."
   ]
  },
  {
   "cell_type": "code",
   "execution_count": 20,
   "metadata": {
    "collapsed": true
   },
   "outputs": [],
   "source": [
    "ffprobe_threshold = 0.3\n",
    "shotdetect_threshold = 60\n",
    "pyscenedetect_threshold = 30"
   ]
  },
  {
   "cell_type": "markdown",
   "metadata": {},
   "source": [
    "FFprobe predictions"
   ]
  },
  {
   "cell_type": "code",
   "execution_count": 21,
   "metadata": {
    "collapsed": false
   },
   "outputs": [],
   "source": [
    "ff_predictions = extract_shots_with_ffprobe(src_video, threshold=ffprobe_threshold)\n",
    "ff_ranked_predictions = sorted(ff_predictions, key=lambda x: x[1], reverse=True)\n",
    "ff_results = metrics.evaluate_shot_predictions(ff_ranked_predictions, gt_shot_boundaries, tolerance=TOLERANCE)\n",
    "ff_precision, ff_recall = metrics.get_precision_recall(ff_results, num_pos)\n",
    "ff_auc = auc(ff_recall, ff_precision)"
   ]
  },
  {
   "cell_type": "markdown",
   "metadata": {},
   "source": [
    "Shotdetect predictions"
   ]
  },
  {
   "cell_type": "code",
   "execution_count": 22,
   "metadata": {
    "collapsed": true
   },
   "outputs": [],
   "source": [
    "sd_predictions = extract_shots_with_shotdetect(src_video, video, threshold=shotdetect_threshold)\n",
    "sd_ranked_predictions = sorted(sd_predictions, key=lambda x: x[1], reverse=True)\n",
    "sd_results = metrics.evaluate_shot_predictions(sd_ranked_predictions, gt_shot_boundaries, tolerance=TOLERANCE)\n",
    "sd_precision, sd_recall = metrics.get_precision_recall(sd_results, num_pos)\n",
    "sd_auc = auc(sd_recall, sd_precision)"
   ]
  },
  {
   "cell_type": "markdown",
   "metadata": {},
   "source": [
    "PySceneDetect predictions"
   ]
  },
  {
   "cell_type": "code",
   "execution_count": 23,
   "metadata": {
    "collapsed": false
   },
   "outputs": [
    {
     "name": "stdout",
     "output_type": "stream",
     "text": [
      "[PySceneDetect] Parsing video gameshow.mp4...\n",
      "[PySceneDetect] Video Resolution / Framerate: 384 x 288 / 25.000 FPS\n",
      "Verify that the above parameters are correct (especially framerate, use --force-fps to correct if required).\n"
     ]
    }
   ],
   "source": [
    "psd_predictions = extract_shots_with_pyscenedetect(src_video, threshold=pyscenedetect_threshold, min_scene_length=15)\n",
    "psd_ranked_predictions = sorted(psd_predictions, key=lambda x: x[1], reverse=True)\n",
    "psd_results = metrics.evaluate_shot_predictions(psd_ranked_predictions, gt_shot_boundaries, tolerance=TOLERANCE)\n",
    "psd_precision, psd_recall = metrics.get_precision_recall(psd_results, num_pos)\n",
    "psd_auc = auc(psd_recall, psd_precision)"
   ]
  },
  {
   "cell_type": "code",
   "execution_count": 24,
   "metadata": {
    "collapsed": true
   },
   "outputs": [],
   "source": [
    "font = {'family' : 'normal',\n",
    "        'weight' : 'normal',\n",
    "        'size'   : 11.5}\n",
    "matplotlib.rc('font', **font)"
   ]
  },
  {
   "cell_type": "code",
   "execution_count": 28,
   "metadata": {
    "collapsed": false
   },
   "outputs": [
    {
     "data": {
      "image/png": "[encoded data removed]",
      "text/plain": [
       "<matplotlib.figure.Figure at 0x111e4bd50>"
      ]
     },
     "metadata": {},
     "output_type": "display_data"
    }
   ],
   "source": [
    "fig, ax = plt.subplots(figsize=(5.8,5.8))\n",
    "ax.spines['right'].set_visible(False)\n",
    "ax.spines['top'].set_visible(False)\n",
    "\n",
    "plt.plot(ff_recall, ff_precision, lw=4, alpha=0.6, color=\"blue\", label='ffprobe: AUC = {}'.format(round(ff_auc, 2)))\n",
    "plt.plot(sd_recall, sd_precision, lw=4, alpha=0.6, color=\"red\", label='shotdetect AUC = {}'.format(round(sd_auc, 2)))\n",
    "plt.plot(psd_recall, psd_precision, lw=4, alpha=0.6, color=\"orange\", label='pyscenedetect: AUC = {}'.format(round(psd_auc, 2)))\n",
    "plt.grid()\n",
    "plt.legend(loc='lower left', fontsize=11)\n",
    "plt.title('Shot detection PR Curve for {}'.format(video))\n",
    "plt.ylim([0,1.01])\n",
    "plt.xlim([0,1.01])\n",
    "plt.ylabel('precision', fontsize=14)\n",
    "plt.xlabel('recall', fontsize=14)\n",
    "plt.savefig('{}/figures/{}'.format(parent_dir, video))"
   ]
  },
  {
   "cell_type": "markdown",
   "metadata": {},
   "source": [
    "###Speed benchmarks"
   ]
  },
  {
   "cell_type": "markdown",
   "metadata": {},
   "source": [
    "**Caveats**: Note that the time benchmarks do not take account of the time cost incurred by parsing the output string, nor do they account for the fact that both ffprobe and Shotdetect are wrapped in Python calls.  However, these time costs should be fairly insignificant in comparison to the shot detection process so these timings may still be of interest."
   ]
  },
  {
   "cell_type": "code",
   "execution_count": 29,
   "metadata": {
    "collapsed": false
   },
   "outputs": [
    {
     "name": "stdout",
     "output_type": "stream",
     "text": [
      "1 loops, best of 3: 2.6 s per loop\n"
     ]
    }
   ],
   "source": [
    "%%timeit -r 3\n",
    "ff_predictions = extract_shots_with_ffprobe(src_video, threshold=ffprobe_threshold)"
   ]
  },
  {
   "cell_type": "code",
   "execution_count": 58,
   "metadata": {
    "collapsed": false
   },
   "outputs": [
    {
     "name": "stdout",
     "output_type": "stream",
     "text": [
      "1 loops, best of 3: 21.3 s per loop\n"
     ]
    }
   ],
   "source": [
    "%%timeit -r 3\n",
    "sd_pdrecitions = extract_shots_with_shotdetect(src_video, video, threshold=shotdetect_threshold);"
   ]
  },
  {
   "cell_type": "code",
   "execution_count": 32,
   "metadata": {
    "collapsed": false
   },
   "outputs": [
    {
     "name": "stdout",
     "output_type": "stream",
     "text": [
      "[PySceneDetect] Parsing video gameshow.mp4...\n",
      "[PySceneDetect] Video Resolution / Framerate: 384 x 288 / 25.000 FPS\n",
      "Verify that the above parameters are correct (especially framerate, use --force-fps to correct if required).\n",
      "[PySceneDetect] Parsing video gameshow.mp4...\n",
      "[PySceneDetect] Video Resolution / Framerate: 384 x 288 / 25.000 FPS\n",
      "Verify that the above parameters are correct (especially framerate, use --force-fps to correct if required).\n",
      "[PySceneDetect] Parsing video gameshow.mp4...\n",
      "[PySceneDetect] Video Resolution / Framerate: 384 x 288 / 25.000 FPS\n",
      "Verify that the above parameters are correct (especially framerate, use --force-fps to correct if required).\n",
      "[PySceneDetect] Parsing video gameshow.mp4...\n",
      "[PySceneDetect] Video Resolution / Framerate: 384 x 288 / 25.000 FPS\n",
      "Verify that the above parameters are correct (especially framerate, use --force-fps to correct if required).\n",
      "1 loops, best of 3: 5min 27s per loop\n"
     ]
    }
   ],
   "source": [
    "%%timeit -r 3\n",
    "psd_predictions = extract_shots_with_pyscenedetect(src_video, threshold=pyscenedetect_threshold, min_scene_length=15)"
   ]
  },
  {
   "cell_type": "markdown",
   "metadata": {},
   "source": [
    "###Footabll clip"
   ]
  },
  {
   "cell_type": "code",
   "execution_count": 29,
   "metadata": {
    "collapsed": true
   },
   "outputs": [],
   "source": [
    "video = 'football'\n",
    "TOLERANCE = 0.35 # for football, there are slower shot transitions so a larger tolerance is given"
   ]
  },
  {
   "cell_type": "code",
   "execution_count": 30,
   "metadata": {
    "collapsed": true
   },
   "outputs": [],
   "source": [
    "parent_dir = os.path.abspath('..')\n",
    "src_video = '{}/raw/{}.mp4'.format(parent_dir, video)"
   ]
  },
  {
   "cell_type": "markdown",
   "metadata": {},
   "source": [
    "load human annotations"
   ]
  },
  {
   "cell_type": "code",
   "execution_count": 33,
   "metadata": {
    "collapsed": true
   },
   "outputs": [],
   "source": [
    "annotations_csv = '{}/annotations/{}.csv'.format(parent_dir, video)\n",
    "gt_shot_boundaries = metrics.get_ground_truth(annotations_csv)\n",
    "num_pos = len(gt_shot_boundaries)"
   ]
  },
  {
   "cell_type": "markdown",
   "metadata": {},
   "source": [
    "FFprobe predictions"
   ]
  },
  {
   "cell_type": "code",
   "execution_count": 34,
   "metadata": {
    "collapsed": false
   },
   "outputs": [],
   "source": [
    "ff_predictions = extract_shots_with_ffprobe(src_video, threshold=ffprobe_threshold)\n",
    "ff_ranked_predictions = sorted(ff_predictions, key=lambda x: x[1], reverse=True)\n",
    "ff_results = metrics.evaluate_shot_predictions(ff_ranked_predictions, gt_shot_boundaries, tolerance=TOLERANCE)\n",
    "ff_precision, ff_recall = metrics.get_precision_recall(ff_results, num_pos)\n",
    "ff_auc = auc(ff_recall, ff_precision)"
   ]
  },
  {
   "cell_type": "markdown",
   "metadata": {},
   "source": [
    "Shotdetect predictions"
   ]
  },
  {
   "cell_type": "code",
   "execution_count": 35,
   "metadata": {
    "collapsed": true
   },
   "outputs": [],
   "source": [
    "sd_predictions = extract_shots_with_shotdetect(src_video, video, threshold=shotdetect_threshold)\n",
    "sd_ranked_predictions = sorted(sd_predictions, key=lambda x: x[1], reverse=True)\n",
    "sd_results = metrics.evaluate_shot_predictions(sd_ranked_predictions, gt_shot_boundaries, tolerance=TOLERANCE)\n",
    "sd_precision, sd_recall = metrics.get_precision_recall(sd_results, num_pos)\n",
    "sd_auc = auc(sd_recall, sd_precision)"
   ]
  },
  {
   "cell_type": "markdown",
   "metadata": {},
   "source": [
    "PySceneDetect predictions"
   ]
  },
  {
   "cell_type": "code",
   "execution_count": 36,
   "metadata": {
    "collapsed": false
   },
   "outputs": [
    {
     "name": "stdout",
     "output_type": "stream",
     "text": [
      "[PySceneDetect] Parsing video football.mp4...\n",
      "[PySceneDetect] Video Resolution / Framerate: 640 x 360 / 25.000 FPS\n",
      "Verify that the above parameters are correct (especially framerate, use --force-fps to correct if required).\n"
     ]
    }
   ],
   "source": [
    "psd_predictions = extract_shots_with_pyscenedetect(src_video, threshold=pyscenedetect_threshold, min_scene_length=15)\n",
    "psd_ranked_predictions = sorted(psd_predictions, key=lambda x: x[1], reverse=True)\n",
    "psd_results = metrics.evaluate_shot_predictions(psd_ranked_predictions, gt_shot_boundaries, tolerance=TOLERANCE)\n",
    "psd_precision, psd_recall = metrics.get_precision_recall(psd_results, num_pos)\n",
    "psd_auc = auc(psd_recall, psd_precision)"
   ]
  },
  {
   "cell_type": "code",
   "execution_count": 37,
   "metadata": {
    "collapsed": false
   },
   "outputs": [
    {
     "data": {
      "image/png": "[encoded data removed]",
      "text/plain": [
       "<matplotlib.figure.Figure at 0x111e5e710>"
      ]
     },
     "metadata": {},
     "output_type": "display_data"
    }
   ],
   "source": [
    "fig, ax = plt.subplots(figsize=(5.8,5.8))\n",
    "ax.spines['right'].set_visible(False)\n",
    "ax.spines['top'].set_visible(False)\n",
    "\n",
    "plt.plot(ff_recall, ff_precision, lw=4, alpha=0.9, color=\"blue\", label='ffprobe: AUC = {}'.format(round(ff_auc, 2)))\n",
    "plt.plot(sd_recall, sd_precision, lw=4, alpha=0.6, color=\"red\", label='shotdetect AUC = {}'.format(round(sd_auc, 2)))\n",
    "plt.plot(psd_recall, psd_precision, lw=4, alpha=0.8, color=\"orange\", label='pyscenedetect: AUC = {}'.format(round(psd_auc, 2)))\n",
    "plt.grid()\n",
    "plt.legend(loc='lower left', fontsize=11)\n",
    "plt.title('Shot detection PR Curve for {}'.format(video))\n",
    "plt.ylim([0,1.01])\n",
    "plt.xlim([0,1.01])\n",
    "plt.ylabel('precision', fontsize=14)\n",
    "plt.xlabel('recall', fontsize=14)\n",
    "plt.savefig('{}/figures/{}'.format(parent_dir, video))"
   ]
  },
  {
   "cell_type": "code",
   "execution_count": 45,
   "metadata": {
    "collapsed": false
   },
   "outputs": [
    {
     "name": "stdout",
     "output_type": "stream",
     "text": [
      "1 loops, best of 3: 6.9 s per loop\n"
     ]
    }
   ],
   "source": [
    "%%timeit -r 3\n",
    "ff_predictions = extract_shots_with_ffprobe(src_video, threshold=ffprobe_threshold)"
   ]
  },
  {
   "cell_type": "code",
   "execution_count": 67,
   "metadata": {
    "collapsed": false
   },
   "outputs": [
    {
     "name": "stdout",
     "output_type": "stream",
     "text": [
      "1 loops, best of 3: 45.5 s per loop\n"
     ]
    }
   ],
   "source": [
    "%%timeit -r 3\n",
    "sd_predictions = extract_shots_with_shotdetect(src_video, video, threshold=shotdetect_threshold);"
   ]
  },
  {
   "cell_type": "code",
   "execution_count": 47,
   "metadata": {
    "collapsed": false
   },
   "outputs": [
    {
     "name": "stdout",
     "output_type": "stream",
     "text": [
      "[PySceneDetect] Parsing video football.mp4...\n",
      "[PySceneDetect] Video Resolution / Framerate: 640 x 360 / 25.000 FPS\n",
      "Verify that the above parameters are correct (especially framerate, use --force-fps to correct if required).\n",
      "[PySceneDetect] Parsing video football.mp4...\n",
      "[PySceneDetect] Video Resolution / Framerate: 640 x 360 / 25.000 FPS\n",
      "Verify that the above parameters are correct (especially framerate, use --force-fps to correct if required).\n",
      "[PySceneDetect] Parsing video football.mp4...\n",
      "[PySceneDetect] Video Resolution / Framerate: 640 x 360 / 25.000 FPS\n",
      "Verify that the above parameters are correct (especially framerate, use --force-fps to correct if required).\n",
      "[PySceneDetect] Parsing video football.mp4...\n",
      "[PySceneDetect] Video Resolution / Framerate: 640 x 360 / 25.000 FPS\n",
      "Verify that the above parameters are correct (especially framerate, use --force-fps to correct if required).\n",
      "1 loops, best of 3: 1min 57s per loop\n"
     ]
    }
   ],
   "source": [
    "%%timeit -r 3\n",
    "psd_predictions = extract_shots_with_pyscenedetect(src_video, threshold=pyscenedetect_threshold, min_scene_length=15)"
   ]
  },
  {
   "cell_type": "markdown",
   "metadata": {},
   "source": [
    "###Movie clip"
   ]
  },
  {
   "cell_type": "code",
   "execution_count": 38,
   "metadata": {
    "collapsed": true
   },
   "outputs": [],
   "source": [
    "video = 'movie'\n",
    "TOLERANCE = 0.2 "
   ]
  },
  {
   "cell_type": "code",
   "execution_count": 39,
   "metadata": {
    "collapsed": true
   },
   "outputs": [],
   "source": [
    "parent_dir = os.path.abspath('..')\n",
    "src_video = '{}/raw/{}.mp4'.format(parent_dir, video)"
   ]
  },
  {
   "cell_type": "code",
   "execution_count": 40,
   "metadata": {
    "collapsed": true
   },
   "outputs": [],
   "source": [
    "annotations_csv = '{}/annotations/{}.csv'.format(parent_dir, video)\n",
    "gt_shot_boundaries = metrics.get_ground_truth(annotations_csv)\n",
    "num_pos = len(gt_shot_boundaries)"
   ]
  },
  {
   "cell_type": "markdown",
   "metadata": {},
   "source": [
    "ffprobe predictions"
   ]
  },
  {
   "cell_type": "code",
   "execution_count": 41,
   "metadata": {
    "collapsed": true
   },
   "outputs": [],
   "source": [
    "ff_predictions = extract_shots_with_ffprobe(src_video, threshold=ffprobe_threshold)\n",
    "ff_ranked_predictions = sorted(ff_predictions, key=lambda x: x[1], reverse=True)\n",
    "ff_results = metrics.evaluate_shot_predictions(ff_ranked_predictions, gt_shot_boundaries, tolerance=TOLERANCE)\n",
    "ff_precision, ff_recall = metrics.get_precision_recall(ff_results, num_pos)\n",
    "ff_auc = auc(ff_recall, ff_precision)"
   ]
  },
  {
   "cell_type": "markdown",
   "metadata": {},
   "source": [
    "Shotdetect predictions"
   ]
  },
  {
   "cell_type": "code",
   "execution_count": 42,
   "metadata": {
    "collapsed": true
   },
   "outputs": [],
   "source": [
    "sd_predictions = extract_shots_with_shotdetect(src_video, video, threshold=shotdetect_threshold)\n",
    "sd_ranked_predictions = sorted(sd_predictions, key=lambda x: x[1], reverse=True)\n",
    "sd_results = metrics.evaluate_shot_predictions(sd_ranked_predictions, gt_shot_boundaries, tolerance=TOLERANCE)\n",
    "sd_precision, sd_recall = metrics.get_precision_recall(sd_results, num_pos)\n",
    "sd_auc = auc(sd_recall, sd_precision)"
   ]
  },
  {
   "cell_type": "markdown",
   "metadata": {},
   "source": [
    "PySceneDetect predictions"
   ]
  },
  {
   "cell_type": "code",
   "execution_count": 43,
   "metadata": {
    "collapsed": false
   },
   "outputs": [
    {
     "name": "stdout",
     "output_type": "stream",
     "text": [
      "[PySceneDetect] Parsing video movie.mp4...\n",
      "[PySceneDetect] Video Resolution / Framerate: 640 x 256 / 25.000 FPS\n",
      "Verify that the above parameters are correct (especially framerate, use --force-fps to correct if required).\n"
     ]
    }
   ],
   "source": [
    "psd_predictions = extract_shots_with_pyscenedetect(src_video, threshold=pyscenedetect_threshold, min_scene_length=15)\n",
    "psd_ranked_predictions = sorted(psd_predictions, key=lambda x: x[1], reverse=True)\n",
    "psd_results = metrics.evaluate_shot_predictions(psd_ranked_predictions, gt_shot_boundaries, tolerance=TOLERANCE)\n",
    "psd_precision, psd_recall = metrics.get_precision_recall(psd_results, num_pos)\n",
    "psd_auc = auc(psd_recall, psd_precision)"
   ]
  },
  {
   "cell_type": "code",
   "execution_count": 44,
   "metadata": {
    "collapsed": false
   },
   "outputs": [
    {
     "data": {
      "image/png": "[encoded data removed]",
      "text/plain": [
       "<matplotlib.figure.Figure at 0x10eaccdd0>"
      ]
     },
     "metadata": {},
     "output_type": "display_data"
    }
   ],
   "source": [
    "fig, ax = plt.subplots(figsize=(5.8,5.8))\n",
    "ax.spines['right'].set_visible(False)\n",
    "ax.spines['top'].set_visible(False)\n",
    "\n",
    "plt.plot(ff_recall, ff_precision, lw=4, alpha=0.6, color=\"blue\", label='ffprobe: AUC = {}'.format(round(ff_auc, 2)))\n",
    "plt.plot(sd_recall, sd_precision, lw=4, alpha=0.6, color=\"red\", label='shotdetect AUC = {}'.format(round(sd_auc, 2)))\n",
    "plt.plot(psd_recall, psd_precision, lw=4, alpha=0.8, color=\"orange\", label='pyscenedetect: AUC = {}'.format(round(psd_auc, 2)))\n",
    "plt.grid()\n",
    "plt.legend(loc='lower left', fontsize=11)\n",
    "plt.title('Shot detection PR Curve for {}'.format(video))\n",
    "plt.ylim([0,1.01])\n",
    "plt.xlim([0,1.01])\n",
    "plt.ylabel('precision', fontsize=14)\n",
    "plt.xlabel('recall', fontsize=14)\n",
    "plt.savefig('{}/figures/{}'.format(parent_dir, video))"
   ]
  },
  {
   "cell_type": "code",
   "execution_count": 45,
   "metadata": {
    "collapsed": false
   },
   "outputs": [
    {
     "name": "stdout",
     "output_type": "stream",
     "text": [
      "1 loops, best of 3: 2.26 s per loop\n"
     ]
    }
   ],
   "source": [
    "%%timeit -r 3\n",
    "ff_predictions = extract_shots_with_ffprobe(src_video, threshold=ffprobe_threshold)"
   ]
  },
  {
   "cell_type": "code",
   "execution_count": 76,
   "metadata": {
    "collapsed": false
   },
   "outputs": [
    {
     "name": "stdout",
     "output_type": "stream",
     "text": [
      "1 loops, best of 3: 20.6 s per loop\n"
     ]
    }
   ],
   "source": [
    "%%timeit -r 3\n",
    "sd_predictions = extract_shots_with_shotdetect(src_video, video, threshold=shotdetect_threshold);"
   ]
  },
  {
   "cell_type": "code",
   "execution_count": 107,
   "metadata": {
    "collapsed": false
   },
   "outputs": [
    {
     "name": "stdout",
     "output_type": "stream",
     "text": [
      "[PySceneDetect] Parsing video movie.mp4...\n",
      "[PySceneDetect] Video Resolution / Framerate: 640 x 256 / 25.000 FPS\n",
      "Verify that the above parameters are correct (especially framerate, use --force-fps to correct if required).\n",
      "[PySceneDetect] Parsing video movie.mp4...\n",
      "[PySceneDetect] Video Resolution / Framerate: 640 x 256 / 25.000 FPS\n",
      "Verify that the above parameters are correct (especially framerate, use --force-fps to correct if required).\n",
      "[PySceneDetect] Parsing video movie.mp4...\n",
      "[PySceneDetect] Video Resolution / Framerate: 640 x 256 / 25.000 FPS\n",
      "Verify that the above parameters are correct (especially framerate, use --force-fps to correct if required).\n",
      "[PySceneDetect] Parsing video movie.mp4...\n",
      "[PySceneDetect] Video Resolution / Framerate: 640 x 256 / 25.000 FPS\n",
      "Verify that the above parameters are correct (especially framerate, use --force-fps to correct if required).\n",
      "1 loops, best of 3: 56.8 s per loop\n"
     ]
    }
   ],
   "source": [
    "%%timeit -r 3\n",
    "psd_predictions = extract_shots_with_pyscenedetect(src_video, threshold=pyscenedetect_threshold, min_scene_length=15)"
   ]
  }
 ],
 "metadata": {
  "kernelspec": {
   "display_name": "Python 2",
   "language": "python",
   "name": "python2"
  },
  "language_info": {
   "codemirror_mode": {
    "name": "ipython",
    "version": 2
   },
   "file_extension": ".py",
   "mimetype": "text/x-python",
   "name": "python",
   "nbconvert_exporter": "python",
   "pygments_lexer": "ipython2",
   "version": "2.7.10"
  }
 },
 "nbformat": 4,
 "nbformat_minor": 0
}
