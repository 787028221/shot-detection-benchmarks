{
 "cells": [
  {
   "cell_type": "code",
   "execution_count": 1,
   "metadata": {
    "collapsed": false
   },
   "outputs": [],
   "source": [
    "%matplotlib inline\n",
    "%load_ext autoreload\n",
    "%autoreload 2"
   ]
  },
  {
   "cell_type": "code",
   "execution_count": 2,
   "metadata": {
    "collapsed": true
   },
   "outputs": [],
   "source": [
    "from __future__ import division\n",
    "import os\n",
    "import scipy.io\n",
    "import matplotlib\n",
    "import matplotlib.pyplot as plt"
   ]
  },
  {
   "cell_type": "code",
   "execution_count": 33,
   "metadata": {
    "collapsed": false
   },
   "outputs": [],
   "source": [
    "from shot_benchmarks.utils import metrics\n",
    "from sklearn.metrics import auc\n",
    "from shot_benchmarks.detectors.ffprobe_shots import extract_shots_with_ffprobe\n",
    "from shot_benchmarks.detectors.shotdetect_shots import extract_shots_with_shotdetect\n",
    "from shot_benchmarks.detectors.shotdetect_shots import extract_boundaries_from_shotdetect_output\n",
    "from shot_benchmarks.detectors.pyscenedetect_shots import extract_shots_with_pyscenedetect"
   ]
  },
  {
   "cell_type": "markdown",
   "metadata": {},
   "source": [
    "###Test Data\n",
    "\n",
    "The test data consists of three youtube videos:\n",
    "\n",
    "* [football clip](https://www.youtube.com/watch?v=vFT8HXJlvfA) (05:11) \n",
    "* [movie clip](https://www.youtube.com/watch?v=bpLtXIlkyYA) (03:12)\n",
    "* [gameshow clip](https://www.youtube.com/watch?v=fkiDpLlQ9Wg) (29:45, but only first 05:00 used)"
   ]
  },
  {
   "cell_type": "markdown",
   "metadata": {},
   "source": [
    "A shot boundary prediction is considered correct if it lies within the number of seconds given by `TOLERANCE` of the human annotated boundary"
   ]
  },
  {
   "cell_type": "markdown",
   "metadata": {},
   "source": [
    "#PR curves with tuned parameters"
   ]
  },
  {
   "cell_type": "markdown",
   "metadata": {},
   "source": [
    "###Gameshow clip"
   ]
  },
  {
   "cell_type": "code",
   "execution_count": 34,
   "metadata": {
    "collapsed": true
   },
   "outputs": [],
   "source": [
    "video = 'gameshow'\n",
    "TOLERANCE = 0.2 "
   ]
  },
  {
   "cell_type": "code",
   "execution_count": 35,
   "metadata": {
    "collapsed": true
   },
   "outputs": [],
   "source": [
    "parent_dir = os.path.abspath('..')\n",
    "src_video = '{}/raw/{}.mp4'.format(parent_dir, video)"
   ]
  },
  {
   "cell_type": "markdown",
   "metadata": {},
   "source": [
    "Load human annotations"
   ]
  },
  {
   "cell_type": "code",
   "execution_count": 36,
   "metadata": {
    "collapsed": false
   },
   "outputs": [],
   "source": [
    "annotations_csv = '{}/annotations/{}.csv'.format(parent_dir, video)\n",
    "gt_shot_boundaries = metrics.get_ground_truth(annotations_csv)\n",
    "num_pos = len(gt_shot_boundaries)"
   ]
  },
  {
   "cell_type": "markdown",
   "metadata": {},
   "source": [
    "No changes made for the gameshow video clip"
   ]
  },
  {
   "cell_type": "code",
   "execution_count": 37,
   "metadata": {
    "collapsed": true
   },
   "outputs": [],
   "source": [
    "ffprobe_threshold = 0.3\n",
    "shotdetect_threshold = 60\n",
    "pyscenedetect_threshold = 30"
   ]
  },
  {
   "cell_type": "markdown",
   "metadata": {},
   "source": [
    "FFprobe predictions"
   ]
  },
  {
   "cell_type": "code",
   "execution_count": 38,
   "metadata": {
    "collapsed": false
   },
   "outputs": [],
   "source": [
    "ff_predictions = extract_shots_with_ffprobe(src_video, threshold=ffprobe_threshold)\n",
    "ff_ranked_predictions = sorted(ff_predictions, key=lambda x: x[1], reverse=True)\n",
    "ff_results = metrics.evaluate_shot_predictions(ff_ranked_predictions, gt_shot_boundaries, tolerance=TOLERANCE)\n",
    "ff_precision, ff_recall = metrics.get_precision_recall(ff_results, num_pos)\n",
    "ff_auc = auc(ff_recall, ff_precision)"
   ]
  },
  {
   "cell_type": "markdown",
   "metadata": {},
   "source": [
    "Shotdetect predictions"
   ]
  },
  {
   "cell_type": "code",
   "execution_count": 39,
   "metadata": {
    "collapsed": false
   },
   "outputs": [],
   "source": [
    "sd_predictions = extract_shots_with_shotdetect(src_video, video, threshold=shotdetect_threshold);\n",
    "sd_ranked_predictions = sorted(sd_predictions, key=lambda x: x[1], reverse=True)\n",
    "sd_results = metrics.evaluate_shot_predictions(sd_ranked_predictions, gt_shot_boundaries, tolerance=TOLERANCE)\n",
    "sd_precision, sd_recall = metrics.get_precision_recall(sd_results, num_pos)\n",
    "sd_auc = auc(sd_recall, sd_precision)"
   ]
  },
  {
   "cell_type": "markdown",
   "metadata": {},
   "source": [
    "PySceneDetect predictions"
   ]
  },
  {
   "cell_type": "code",
   "execution_count": 40,
   "metadata": {
    "collapsed": false
   },
   "outputs": [
    {
     "name": "stdout",
     "output_type": "stream",
     "text": [
      "[PySceneDetect] Parsing video gameshow.mp4...\n",
      "[PySceneDetect] Video Resolution / Framerate: 384 x 288 / 25.000 FPS\n",
      "Verify that the above parameters are correct (especially framerate, use --force-fps to correct if required).\n"
     ]
    }
   ],
   "source": [
    "psd_predictions = extract_shots_with_pyscenedetect(src_video, threshold=pyscenedetect_threshold, min_scene_length=15)\n",
    "psd_ranked_predictions = sorted(psd_predictions, key=lambda x: x[1], reverse=True)\n",
    "psd_results = metrics.evaluate_shot_predictions(psd_ranked_predictions, gt_shot_boundaries, tolerance=TOLERANCE)\n",
    "psd_precision, psd_recall = metrics.get_precision_recall(psd_results, num_pos)\n",
    "psd_auc = auc(psd_recall, psd_precision)"
   ]
  },
  {
   "cell_type": "code",
   "execution_count": 41,
   "metadata": {
    "collapsed": true
   },
   "outputs": [],
   "source": [
    "font = {'family' : 'normal',\n",
    "        'weight' : 'normal',\n",
    "        'size'   : 11.5}\n",
    "matplotlib.rc('font', **font)"
   ]
  },
  {
   "cell_type": "code",
   "execution_count": 42,
   "metadata": {
    "collapsed": false
   },
   "outputs": [
    {
     "data": {
      "image/png": "[encoded data removed]",
      "text/plain": [
       "<matplotlib.figure.Figure at 0x106afcad0>"
      ]
     },
     "metadata": {},
     "output_type": "display_data"
    }
   ],
   "source": [
    "fig, ax = plt.subplots(figsize=(5.8,5.8))\n",
    "ax.spines['right'].set_visible(False)\n",
    "ax.spines['top'].set_visible(False)\n",
    "\n",
    "plt.plot(ff_recall, ff_precision, lw=4, alpha=0.6, color=\"blue\", label='ffprobe: AUC = {}'.format(round(ff_auc, 2)))\n",
    "plt.plot(sd_recall, sd_precision, lw=4, alpha=0.6, color=\"red\", label='shotdetect AUC = {}'.format(round(sd_auc, 2)))\n",
    "plt.plot(psd_recall, psd_precision, lw=4, alpha=0.6, color=\"orange\", label='pyscenedetect: AUC = {}'.format(round(psd_auc, 2)))\n",
    "plt.grid()\n",
    "plt.legend(loc='lower left', fontsize=11)\n",
    "plt.title('Shot detection PR Curve for {} (tuned)'.format(video))\n",
    "plt.ylim([0,1.01])\n",
    "plt.xlim([0,1.01])\n",
    "plt.ylabel('precision', fontsize=14)\n",
    "plt.xlabel('recall', fontsize=14)\n",
    "plt.savefig('{}/figures/{}-tuned'.format(parent_dir, video))"
   ]
  },
  {
   "cell_type": "markdown",
   "metadata": {},
   "source": [
    "###Footabll clip"
   ]
  },
  {
   "cell_type": "code",
   "execution_count": 16,
   "metadata": {
    "collapsed": true
   },
   "outputs": [],
   "source": [
    "video = 'football'\n",
    "TOLERANCE = 0.35 # for football, there are slower shot transitions so a larger tolerance is given"
   ]
  },
  {
   "cell_type": "code",
   "execution_count": 17,
   "metadata": {
    "collapsed": true
   },
   "outputs": [],
   "source": [
    "ffprobe_threshold = 0\n",
    "shotdetect_threshold = 20 \n",
    "pyscenedetect_threshold = 21"
   ]
  },
  {
   "cell_type": "code",
   "execution_count": 18,
   "metadata": {
    "collapsed": true
   },
   "outputs": [],
   "source": [
    "parent_dir = os.path.abspath('..')\n",
    "src_video = '{}/raw/{}.mp4'.format(parent_dir, video)"
   ]
  },
  {
   "cell_type": "markdown",
   "metadata": {},
   "source": [
    "load human annotations"
   ]
  },
  {
   "cell_type": "code",
   "execution_count": 19,
   "metadata": {
    "collapsed": true
   },
   "outputs": [],
   "source": [
    "annotations_csv = '{}/annotations/{}.csv'.format(parent_dir, video)\n",
    "gt_shot_boundaries = metrics.get_ground_truth(annotations_csv)\n",
    "num_pos = len(gt_shot_boundaries)"
   ]
  },
  {
   "cell_type": "markdown",
   "metadata": {},
   "source": [
    "FFprobe predictions"
   ]
  },
  {
   "cell_type": "code",
   "execution_count": 20,
   "metadata": {
    "collapsed": false
   },
   "outputs": [],
   "source": [
    "ff_predictions = extract_shots_with_ffprobe(src_video, threshold=ffprobe_threshold)\n",
    "ff_ranked_predictions = sorted(ff_predictions, key=lambda x: x[1], reverse=True)\n",
    "ff_results = metrics.evaluate_shot_predictions(ff_ranked_predictions, gt_shot_boundaries, tolerance=TOLERANCE)\n",
    "ff_precision, ff_recall = metrics.get_precision_recall(ff_results, num_pos)\n",
    "ff_auc = auc(ff_recall, ff_precision)"
   ]
  },
  {
   "cell_type": "markdown",
   "metadata": {},
   "source": [
    "Shotdetect predictions"
   ]
  },
  {
   "cell_type": "code",
   "execution_count": 21,
   "metadata": {
    "collapsed": false
   },
   "outputs": [],
   "source": [
    "sd_predictions = extract_shots_with_shotdetect(src_video, video, threshold=shotdetect_threshold);\n",
    "sd_ranked_predictions = sorted(sd_predictions, key=lambda x: x[1], reverse=True)\n",
    "sd_results = metrics.evaluate_shot_predictions(sd_ranked_predictions, gt_shot_boundaries, tolerance=TOLERANCE)\n",
    "sd_precision, sd_recall = metrics.get_precision_recall(sd_results, num_pos)\n",
    "sd_auc = auc(sd_recall, sd_precision)"
   ]
  },
  {
   "cell_type": "markdown",
   "metadata": {},
   "source": [
    "PySceneDetect predictions"
   ]
  },
  {
   "cell_type": "code",
   "execution_count": 22,
   "metadata": {
    "collapsed": false
   },
   "outputs": [
    {
     "name": "stdout",
     "output_type": "stream",
     "text": [
      "[PySceneDetect] Parsing video football.mp4...\n",
      "[PySceneDetect] Video Resolution / Framerate: 640 x 360 / 25.000 FPS\n",
      "Verify that the above parameters are correct (especially framerate, use --force-fps to correct if required).\n"
     ]
    }
   ],
   "source": [
    "psd_predictions = extract_shots_with_pyscenedetect(src_video, threshold=pyscenedetect_threshold, min_scene_length=15)\n",
    "psd_ranked_predictions = sorted(psd_predictions, key=lambda x: x[1], reverse=True)\n",
    "psd_results = metrics.evaluate_shot_predictions(psd_ranked_predictions, gt_shot_boundaries, tolerance=TOLERANCE)\n",
    "psd_precision, psd_recall = metrics.get_precision_recall(psd_results, num_pos)\n",
    "psd_auc = auc(psd_recall, psd_precision)"
   ]
  },
  {
   "cell_type": "code",
   "execution_count": 23,
   "metadata": {
    "collapsed": false
   },
   "outputs": [
    {
     "data": {
      "image/png": "[encoded data removed]",
      "text/plain": [
       "<matplotlib.figure.Figure at 0x106e8d190>"
      ]
     },
     "metadata": {},
     "output_type": "display_data"
    }
   ],
   "source": [
    "fig, ax = plt.subplots(figsize=(5.8,5.8))\n",
    "ax.spines['right'].set_visible(False)\n",
    "ax.spines['top'].set_visible(False)\n",
    "\n",
    "plt.plot(ff_recall, ff_precision, lw=4, alpha=0.6, color=\"blue\", label='ffprobe: AUC = {}'.format(round(ff_auc, 2)))\n",
    "plt.plot(sd_recall, sd_precision, lw=4, alpha=0.6, color=\"red\", label='shotdetect AUC = {}'.format(round(sd_auc, 2)))\n",
    "plt.plot(psd_recall, psd_precision, lw=4, alpha=0.8, color=\"orange\", label='pyscenedetect: AUC = {}'.format(round(psd_auc, 2)))\n",
    "plt.grid()\n",
    "plt.legend(loc='lower left', fontsize=11)\n",
    "plt.title('Shot detection PR Curve for {} (tuned)'.format(video))\n",
    "plt.ylim([0,1.01])\n",
    "plt.xlim([0,1.01])\n",
    "plt.ylabel('precision', fontsize=14)\n",
    "plt.xlabel('recall', fontsize=14)\n",
    "plt.savefig('{}/figures/{}-tuned'.format(parent_dir, video))"
   ]
  },
  {
   "cell_type": "markdown",
   "metadata": {},
   "source": [
    "###Movie clip"
   ]
  },
  {
   "cell_type": "code",
   "execution_count": 24,
   "metadata": {
    "collapsed": true
   },
   "outputs": [],
   "source": [
    "video = 'movie'\n",
    "TOLERANCE = 0.2 "
   ]
  },
  {
   "cell_type": "code",
   "execution_count": 25,
   "metadata": {
    "collapsed": true
   },
   "outputs": [],
   "source": [
    "ffprobe_threshold = 0.1\n",
    "shotdetect_threshold = 43 \n",
    "pyscenedetect_threshold = 41"
   ]
  },
  {
   "cell_type": "code",
   "execution_count": 26,
   "metadata": {
    "collapsed": true
   },
   "outputs": [],
   "source": [
    "parent_dir = os.path.abspath('..')\n",
    "src_video = '{}/raw/{}.mp4'.format(parent_dir, video)"
   ]
  },
  {
   "cell_type": "code",
   "execution_count": 27,
   "metadata": {
    "collapsed": true
   },
   "outputs": [],
   "source": [
    "annotations_csv = '{}/annotations/{}.csv'.format(parent_dir, video)\n",
    "gt_shot_boundaries = metrics.get_ground_truth(annotations_csv)\n",
    "num_pos = len(gt_shot_boundaries)"
   ]
  },
  {
   "cell_type": "markdown",
   "metadata": {},
   "source": [
    "ffprobe predictions"
   ]
  },
  {
   "cell_type": "code",
   "execution_count": 28,
   "metadata": {
    "collapsed": true
   },
   "outputs": [],
   "source": [
    "ff_predictions = extract_shots_with_ffprobe(src_video, threshold=ffprobe_threshold)\n",
    "ff_ranked_predictions = sorted(ff_predictions, key=lambda x: x[1], reverse=True)\n",
    "ff_results = metrics.evaluate_shot_predictions(ff_ranked_predictions, gt_shot_boundaries, tolerance=TOLERANCE)\n",
    "ff_precision, ff_recall = metrics.get_precision_recall(ff_results, num_pos)\n",
    "ff_auc = auc(ff_recall, ff_precision)"
   ]
  },
  {
   "cell_type": "markdown",
   "metadata": {},
   "source": [
    "Shotdetect predictions"
   ]
  },
  {
   "cell_type": "code",
   "execution_count": 29,
   "metadata": {
    "collapsed": true
   },
   "outputs": [],
   "source": [
    "sd_predictions = extract_shots_with_shotdetect(src_video, video, threshold=shotdetect_threshold);\n",
    "sd_ranked_predictions = sorted(sd_predictions, key=lambda x: x[1], reverse=True)\n",
    "sd_results = metrics.evaluate_shot_predictions(sd_ranked_predictions, gt_shot_boundaries, tolerance=TOLERANCE)\n",
    "sd_precision, sd_recall = metrics.get_precision_recall(sd_results, num_pos)\n",
    "sd_auc = auc(sd_recall, sd_precision)"
   ]
  },
  {
   "cell_type": "markdown",
   "metadata": {},
   "source": [
    "PySceneDetect predictions"
   ]
  },
  {
   "cell_type": "code",
   "execution_count": 30,
   "metadata": {
    "collapsed": false
   },
   "outputs": [
    {
     "name": "stdout",
     "output_type": "stream",
     "text": [
      "[PySceneDetect] Parsing video movie.mp4...\n",
      "[PySceneDetect] Video Resolution / Framerate: 640 x 256 / 25.000 FPS\n",
      "Verify that the above parameters are correct (especially framerate, use --force-fps to correct if required).\n"
     ]
    }
   ],
   "source": [
    "psd_predictions = extract_shots_with_pyscenedetect(src_video, threshold=pyscenedetect_threshold, min_scene_length=15)\n",
    "psd_ranked_predictions = sorted(psd_predictions, key=lambda x: x[1], reverse=True)\n",
    "psd_results = metrics.evaluate_shot_predictions(psd_ranked_predictions, gt_shot_boundaries, tolerance=TOLERANCE)\n",
    "psd_precision, psd_recall = metrics.get_precision_recall(psd_results, num_pos)\n",
    "psd_auc = auc(psd_recall, psd_precision)"
   ]
  },
  {
   "cell_type": "code",
   "execution_count": 31,
   "metadata": {
    "collapsed": false
   },
   "outputs": [
    {
     "data": {
      "image/png": "[encoded data removed]",
      "text/plain": [
       "<matplotlib.figure.Figure at 0x106d73bd0>"
      ]
     },
     "metadata": {},
     "output_type": "display_data"
    }
   ],
   "source": [
    "fig, ax = plt.subplots(figsize=(5.8,5.8))\n",
    "ax.spines['right'].set_visible(False)\n",
    "ax.spines['top'].set_visible(False)\n",
    "\n",
    "plt.plot(ff_recall, ff_precision, lw=4, alpha=0.6, color=\"blue\", label='ffprobe: AUC = {}'.format(round(ff_auc, 2)))\n",
    "plt.plot(sd_recall, sd_precision, lw=4, alpha=0.6, color=\"red\", label='shotdetect AUC = {}'.format(round(sd_auc, 2)))\n",
    "plt.plot(psd_recall, psd_precision, lw=4, alpha=0.8, color=\"orange\", label='pyscenedetect: AUC = {}'.format(round(psd_auc, 2)))\n",
    "plt.grid()\n",
    "plt.legend(loc='lower left', fontsize=11)\n",
    "plt.title('Shot detection PR Curve for {} (tuned)'.format(video))\n",
    "plt.ylim([0,1.01])\n",
    "plt.xlim([0,1.01])\n",
    "plt.ylabel('precision', fontsize=14)\n",
    "plt.xlabel('recall', fontsize=14)\n",
    "plt.savefig('{}/figures/{}-tuned'.format(parent_dir, video))"
   ]
  },
  {
   "cell_type": "code",
   "execution_count": null,
   "metadata": {
    "collapsed": true
   },
   "outputs": [],
   "source": []
  }
 ],
 "metadata": {
  "kernelspec": {
   "display_name": "Python 2",
   "language": "python",
   "name": "python2"
  },
  "language_info": {
   "codemirror_mode": {
    "name": "ipython",
    "version": 2
   },
   "file_extension": ".py",
   "mimetype": "text/x-python",
   "name": "python",
   "nbconvert_exporter": "python",
   "pygments_lexer": "ipython2",
   "version": "2.7.10"
  }
 },
 "nbformat": 4,
 "nbformat_minor": 0
}
